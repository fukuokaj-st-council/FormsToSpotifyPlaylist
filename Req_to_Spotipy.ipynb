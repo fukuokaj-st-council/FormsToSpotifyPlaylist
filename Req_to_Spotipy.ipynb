{
  "cells": [
    {
      "cell_type": "markdown",
      "metadata": {
        "id": "view-in-github",
        "colab_type": "text"
      },
      "source": [
        "<a href=\"https://colab.research.google.com/github/fukuokaj-st-council/FormsToSpotifyPlaylist/blob/main/Req_to_Spotipy.ipynb\" target=\"_parent\"><img src=\"https://colab.research.google.com/assets/colab-badge.svg\" alt=\"Open In Colab\"/></a>"
      ]
    },
    {
      "cell_type": "markdown",
      "source": [
        "# FormToSpotifyPlaylist v0.2"
      ],
      "metadata": {
        "id": "QxdR91ZJ_VOK"
      }
    },
    {
      "cell_type": "markdown",
      "source": [
        "## 【情報】\n",
        "\n",
        "### フォームが完成するまで使用不可状態\n",
        "\n",
        "|リリース情報| |\n",
        "| - | - |\n",
        "|リリース日|2024/06/02|\n",
        "|作成者|前田崇見|\n",
        "|バージョン|0.2|\n",
        "| --- | --- |\n",
        "|**API情報**|**以下公開禁止**|\n",
        "|Client ID|`083004bdf7a84b14a9024cb7779b762b`|\n",
        "|Client Secret|`881e0c2af88e4d0c873fca6d3e30a0ef`|\n",
        "|Redirect URI|`http://localhost:3000/`|\n",
        "\n",
        "## 【現在使用不可状態】"
      ],
      "metadata": {
        "id": "zUR5MjKSU_Kn"
      }
    },
    {
      "cell_type": "markdown",
      "source": [
        "## 【ツール本体】"
      ],
      "metadata": {
        "id": "lE1gIWFNXIKl"
      }
    },
    {
      "cell_type": "code",
      "execution_count": null,
      "metadata": {
        "id": "bnHR_-WDmrUt",
        "cellView": "form"
      },
      "outputs": [],
      "source": [
        "# @title #\n",
        "# @markdown ### ←ここから実行\n",
        "# @markdown ### 【使用不可】\n",
        "from tqdm.notebook import tqdm as tqdm\n",
        "from time import sleep\n",
        "import os\n",
        "tqdm.write(\"===================\\nFormToPlaylist v0.2\\n===================\")\n",
        "os._exit(1)\n",
        "tqdm.write(\"パッケージ準備中...\")\n",
        "for i in tqdm(range(2),smoothing=0):\n",
        "  if (i==0):\n",
        "    !pip install -q spotipy\n",
        "    import spotipy\n",
        "  elif (i==1):\n",
        "    !pip install -q openpyxl\n",
        "    import openpyxl as xl\n",
        "    import pprint\n",
        "    import math\n",
        "tqdm.write(\"Spotify利用準備中...\")\n",
        "client_id = \"083004bdf7a84b14a9024cb7779b762b\"\n",
        "client_secret = \"881e0c2af88e4d0c873fca6d3e30a0ef\"\n",
        "redirect_url = \"http://localhost:3000/\"\n",
        "scope = \"user-library-modify user-library-read\"\n",
        "sp_oauth = spotipy.SpotifyOAuth(client_id,client_secret,redirect_url,scope=scope)\n",
        "try:\n",
        "  token_info = sp_oauth.get_cached_token()\n",
        "  sp = spotipy.Spotify(token_info['access_token'])\n",
        "  if sp_oauth.is_token_expired(token_info) == True:\n",
        "    token_info = sp_oauth.refresh_access_token(token_info['refresh_token'])\n",
        "except:\n",
        "    tqdm.write(\"トークンがありません：次の通り操作してください。\")\n",
        "    tqdm.write(\"  1.これから表示されるURLに移動してください。\")\n",
        "    tqdm.write(\"  2.しばらく待つと、「申し訳ありません。このページに到達できません」などと表示されます。\")\n",
        "    tqdm.write(\"  3.その状態のページのURLをコピーします。\")\n",
        "    tqdm.write(\"  4.次に表示されるボックスに貼り付け、Enterキーを押してください。\")\n",
        "    tqdm.write(sp_oauth.get_authorize_url())\n",
        "    code = sp_oauth.get_authorization_code(input())\n",
        "    token_info = sp_oauth.get_access_token(code)\n",
        "tqdm.write(\"========\\n準備完了\\n========\")\n",
        "tqdm.write(\"リクエスト曲情報のコピー中...\")\n",
        "!wget \"https://takaokaedu-my.sharepoint.com/:x:/g/personal/171114_takaoka-city_ed_jp/EecMEY5ls05EiXvM5mUtdn4BSb7WAb5c26xWxOn848NLcA?e=gypMfu&download=1\" -q -O request_song.xlsx\n",
        "tqdm.write(\"\\b OK\")\n",
        "tqdm.write(\"リクエスト曲情報の読み込み中(この処理には時間がかかります)...\")\n",
        "wb = xl.load_workbook(\"request_song.xlsx\",False,False,True,False)\n",
        "tqdm.write(\"\\b OK\")\n",
        "sheet = wb['@']\n",
        "songlist = []\n",
        "artistlist = []\n",
        "tqdm.write(\"曲名・歌手名情報の読み込み中...\")\n",
        "for i in tqdm(range(1048674),smoothing=0):\n",
        "  songlist.append(sheet.cell(row=i+2,column=7).value)\n",
        "  if songlist[-1] == None:\n",
        "    songlist.pop()\n",
        "    break;\n",
        "for i in tqdm(range(1048674),smoothing=0):\n",
        "  artistlist.append(sheet.cell(row=i+2,column=8).value)\n",
        "  if artistlist[-1] == None:\n",
        "    artistlist.pop()\n",
        "    break;\n",
        "tqdm.write(\"再生済み曲の整理中...\")\n",
        "for i in tqdm(range(len(songlist)),smoothing=0):\n",
        "  if (sheet.cell(row=i+2,column=9).value) == 1:\n",
        "    songlist[i] = True\n",
        "    artistlist[i] = True\n",
        "while True in songlist:\n",
        "  songlist.remove(True)\n",
        "  artistlist.remove(True)\n",
        "sp = spotipy.Spotify(client_credentials_manager=spotipy.SpotifyClientCredentials(client_id,client_secret))\n",
        "idlist = []\n",
        "tqdm.write(\"曲情報の検索中...\")\n",
        "for i in tqdm(range(len(songlist))):\n",
        "  idlist.append(sp.search(songlist[i]+\" \"+artistlist[i])['tracks']['items'][0]['id'])\n",
        "sp = spotipy.Spotify(auth=token_info['access_token'])\n",
        "playlist_b = []\n",
        "tqdm.write(\"プレイリストの削除中...\")\n",
        "for i in tqdm(range(math.ceil((sp.current_user_saved_tracks(limit=1)['total'])/50))):\n",
        "  playlist_b_raw = sp.current_user_saved_tracks(limit=50,offset=i)\n",
        "  for j in tqdm(range(len(playlist_b_raw['items']))):\n",
        "    playlist_b.append(playlist_b_raw['items'][j]['track']['id'])\n",
        "if playlist_b != []:\n",
        "  sp.current_user_saved_tracks_delete(playlist_b)\n",
        "tqdm.write(\"プレイリストへの追加中...\")\n",
        "sp.current_user_saved_tracks_add(idlist)\n",
        "tqdm.write(\"========\\n\\n完了しました。\")"
      ]
    }
  ],
  "metadata": {
    "colab": {
      "provenance": [],
      "authorship_tag": "ABX9TyNIqtci94ZGumkHHparkDlO",
      "include_colab_link": true
    },
    "kernelspec": {
      "display_name": "Python 3",
      "name": "python3"
    },
    "language_info": {
      "name": "python"
    }
  },
  "nbformat": 4,
  "nbformat_minor": 0
}